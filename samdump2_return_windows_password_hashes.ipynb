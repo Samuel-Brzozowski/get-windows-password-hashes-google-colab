{
  "cells": [
    {
      "cell_type": "markdown",
      "metadata": {
        "id": "view-in-github",
        "colab_type": "text"
      },
      "source": [
        "<a href=\"https://colab.research.google.com/github/Samuel-Brzozowski/get-windows-password-hashes-google-colab/blob/main/samdump2_return_windows_password_hashes.ipynb\" target=\"_parent\"><img src=\"https://colab.research.google.com/assets/colab-badge.svg\" alt=\"Open In Colab\"/></a>"
      ]
    },
    {
      "cell_type": "code",
      "source": [
        "# @title ## To get the windows password hashes, simply upload the SAM and SYSTEM files here.\n",
        "# @markdown The SAM and SYSTEM files are stored in C:\\Windows\\System32\\config\\\n",
        "# @markdown\n",
        "# @markdown However, you cannot access these files normally. I reccommend connecting the hard drive to another computer. You could also restart the computer in recovery mode, go to select an image, install a driver, and copy the config folder to your desktop.\n",
        "# @markdown\n",
        "# @markdown DISCLAIMER: DO NOT USE THIS PROGRAM FOR EVIL!!! IT IS INTENDED FOR ETHICAL PEN TESTING OR EDUCATION ONLY!!!\n",
        "import os\n",
        "import time\n",
        "!rm -r /content/uploaded\n",
        "!mkdir /content/uploaded\n",
        "%cd /content/uploaded\n",
        "\n",
        "from google.colab import files\n",
        "uploaded = files.upload()\n",
        "UploadedFiles = list(uploaded.keys())\n",
        "SamFile = ''\n",
        "for file1 in UploadedFiles:\n",
        "  if 'sam'.lower() in file1.lower():\n",
        "    SamFile = file1\n",
        "SystemFile = ''\n",
        "for file1 in UploadedFiles:\n",
        "  if 'system'.lower() in file1.lower():\n",
        "    SystemFile = file1\n",
        "\n",
        "print(f\"Sam file is: {SamFile}\")\n",
        "print(f\"System file is: {SystemFile}\")\n",
        "\n",
        "\n",
        "!apt install samdump2\n",
        "if SamFile and SystemFile:\n",
        "  !samdump2 {SystemFile} {SamFile} > \"/content/HASHEDWINDOWSPASSWORDS.txt\"\n",
        "  print()\n",
        "  print()\n",
        "  print(\"Password hashes are:\")\n",
        "  print()\n",
        "  !samdump2 {SystemFile} {SamFile}\n",
        "  print()\n",
        "  try:\n",
        "    files.download(\"/content/HASHEDWINDOWSPASSWORDS.txt\")\n",
        "  except:\n",
        "    print(\"File download failed. To manually download, try opening the file browser. The file is located in /content/HASHEDWINDOWSPASSWORDS.txt\")\n",
        "else:\n",
        "  print(\"Either Sam file or System file is missing.\")\n"
      ],
      "metadata": {
        "id": "BhKK7yXrXcnq"
      },
      "execution_count": null,
      "outputs": []
    }
  ],
  "metadata": {
    "colab": {
      "provenance": [],
      "private_outputs": true,
      "include_colab_link": true
    },
    "kernelspec": {
      "display_name": "Python 3",
      "name": "python3"
    },
    "language_info": {
      "name": "python"
    }
  },
  "nbformat": 4,
  "nbformat_minor": 0
}